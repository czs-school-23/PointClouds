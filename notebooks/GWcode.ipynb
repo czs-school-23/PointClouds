{
  "cells": [
    {
      "cell_type": "code",
      "execution_count": null,
      "metadata": {
        "id": "hjru2gsyKUTw"
      },
      "outputs": [],
      "source": [
        "!pip install wget\n",
        "!pip install -q git+https://github.com/ott-jax/ott@main"
      ]
    },
    {
      "cell_type": "code",
      "execution_count": null,
      "metadata": {
        "id": "sKvEiQy-JcMq"
      },
      "outputs": [],
      "source": [
        "import numpy as np\n",
        "import pickle, gzip\n",
        "import pylab as plt\n",
        "import jax.numpy as jnp\n",
        "from jax import vmap\n",
        "from jax.lax import scan\n",
        "import jax\n",
        "import gc\n",
        "import os\n",
        "import sys\n",
        "import gzip\n",
        "import wget\n",
        "from ott.geometry import segment, pointcloud, geometry\n",
        "from ott.problems.quadratic import gw_barycenter as gw_prob\n",
        "from ott.solvers.quadratic import gw_barycenter as gw_solver\n",
        "from ott.problems.quadratic import quadratic_problem\n",
        "from ott.solvers.quadratic import gromov_wasserstein\n",
        "from ott.solvers.linear import sinkhorn\n",
        "import time"
      ]
    },
    {
      "cell_type": "code",
      "execution_count": null,
      "metadata": {
        "id": "6YLKqA9SJrNk"
      },
      "outputs": [],
      "source": [
        "FILE = 'halos.pkl.gz'\n",
        "URL = 'https://zenodo.org/record/8245981/files/' + FILE"
      ]
    },
    {
      "cell_type": "code",
      "execution_count": null,
      "metadata": {
        "id": "8Tt688Aw-hRK"
      },
      "outputs": [],
      "source": [
        "def read_data(v_scale=8.0): # magic 8\n",
        "    if not os.path.isfile(FILE):\n",
        "        fn = wget.download(URL)\n",
        "        print(fn, FILE)\n",
        "    with gzip.open(FILE, \"r\") as f:\n",
        "        particles, halo_slice = pickle.load(f)\n",
        "    # TEMPORARY FIX for bad data -- RUN THIS ONLY ONCE\n",
        "    halo_slice['GroupStellarMass'] = halo_slice['GroupStellarMass'][halo_slice['GroupID']]\n",
        "    label = np.log10(halo_slice['GroupStellarMass'])\n",
        "\n",
        "    for i, id in enumerate(halo_slice['GroupID']):\n",
        "        R200 = halo_slice['Group_R_Mean200'][i]\n",
        "        G = 4.30219372e10 / 1e6\n",
        "        V200 = np.sqrt(G * halo_slice['Group_M_Mean200'][i] / R200)\n",
        "        # print(i, \"halo\", id, \"R200\", R200, \"V200\", V200)\n",
        "        particles[i]['xs'] = np.concatenate((particles[i][\"Coordinates\"] / R200,\n",
        "                                            particles[i][\"Velocities\"] / V200 / v_scale), #magic number\n",
        "                                            axis=1)\n",
        "    for p in particles:\n",
        "        p['xs'] = p['xs'] - np.mean(p['xs'], axis=0)\n",
        "    return particles,label\n",
        "\n",
        "def subsample(x, k):\n",
        "    n = x.shape[0]\n",
        "    if n < k:\n",
        "        return x\n",
        "    aux = np.random.choice(range(n), size=k, replace=False)\n",
        "    return x[aux, :]\n",
        "\n",
        "def dist_function(xx, yy, solver, wxx=None, wyy=None):\n",
        "    \"\"\"\n",
        "    Compute the Gromov-Wasserstein distances between one set of point clouds and another.\n",
        "    \"\"\"\n",
        "    geom_xx = pointcloud.PointCloud(xx)\n",
        "    geom_yy = pointcloud.PointCloud(yy)\n",
        "    out = solver(quadratic_problem.QuadraticProblem(geom_xx, geom_yy, a=wxx, b=wyy, scale_cost=False))\n",
        "    return out.primal_cost, out.converged, out.linear_convergence\n",
        "\n",
        "def experiments(a_size, b_size, num_points, v_scale, epsilon, iterations):\n",
        "    particles, label = read_data(v_scale)\n",
        "    np.random.seed(42)\n",
        "    rand_label = np.random.uniform(size=len(label))\n",
        "    a_index = np.argsort(rand_label)[:a_size]\n",
        "    b_index = np.argsort(rand_label)[-b_size:]\n",
        "    a_point_clouds = [subsample(particles[i]['xs'], num_points) for i in a_index]\n",
        "    b_point_clouds = [subsample(particles[i]['xs'], num_points) for i in b_index]\n",
        "    a_labels = label[a_index]\n",
        "    b_labels = label[b_index]\n",
        "    a_sizes = [point.shape[0] for point in a_point_clouds]\n",
        "    b_sizes = [point.shape[0] for point in b_point_clouds]\n",
        "    a_train_points, a_train_weights = segment.segment_point_cloud(jnp.concatenate(a_point_clouds), num_per_segment=a_sizes)\n",
        "    b_train_points, b_train_weights = segment.segment_point_cloud(jnp.concatenate(b_point_clouds), num_per_segment=b_sizes)\n",
        "\n",
        "    #freeing up memory\n",
        "    del particles\n",
        "    del label\n",
        "    gc.collect()\n",
        "\n",
        "    d_solver = gromov_wasserstein.GromovWasserstein(min_iterations=iterations, max_iterations=iterations, epsilon=epsilon, linear_ot_solver=sinkhorn.Sinkhorn(min_iterations=1000, max_iterations=1000))\n",
        "\n",
        "    t = time.time()\n",
        "    def scanable_inner_loop(ii, xx):\n",
        "        xxs, wwx = xx\n",
        "        return ii+1, inner_loop(xxs, b_train_points, d_solver, wwx, b_train_weights)\n",
        "\n",
        "    ii, (kernel_matrix, converged1, linear_conv1) = scan(scanable_inner_loop, 0, [a_train_points, a_train_weights])\n",
        "    print(kernel_matrix)\n",
        "    elapsed = time.time() - t\n",
        "    print(\"elapsed scan\", elapsed)\n",
        "\n",
        "    #t = time.time()\n",
        "    #kernel_matrix, converged, linear_conv = vectorized_dist_function_double_loop(a_train_points, b_train_points, a_train_weights, b_train_weights, d_solver)\n",
        "    #print(kernel_matrix)\n",
        "    #elapsed = time.time() - t\n",
        "    #print(\"elapsed vmapx2\", elapsed)\n",
        "\n",
        "    label_difference = a_labels[:, None] - b_labels[None,:]\n",
        "\n",
        "    plt.clf()\n",
        "    plt.scatter(kernel_matrix.flatten(), label_difference.flatten()**2, marker='.')\n",
        "    plt.semilogx()\n",
        "    plt.xlim(0.9*kernel_matrix.min(), 90*kernel_matrix.min())\n",
        "    plt.savefig(\"plot_numpoints{0}_epsilon{1}_vscale{2}_iterations{3}.pdf\".format(num_points, epsilon, v_scale, iterations))\n",
        "\n",
        "    pickle.dump((kernel_matrix, label_difference, elapsed), open(\"numpoints{0}_epsilon{1}_vscale{2}_iterations{3}.pkl\".format(num_points, epsilon, v_scale, iterations), \"wb\"))\n",
        "    print(\"numpoints{0}_epsilon{1}_vscale{2}_iterations{3}.pkl\".format(num_points, epsilon, v_scale, iterations))\n",
        "\n",
        "\n"
      ]
    },
    {
      "cell_type": "code",
      "execution_count": null,
      "metadata": {
        "id": "blu9BzXpxdhG"
      },
      "outputs": [],
      "source": [
        "a_size = 13\n",
        "b_size = 17\n",
        "num_points = [100, ]\n",
        "v_scales = [8, ]\n",
        "epsilons = [0.001, ]\n",
        "iterations = [20, ] # experiments suggest that 20 is okay, it'd be nice to see if it converged"
      ]
    },
    {
      "cell_type": "code",
      "execution_count": null,
      "metadata": {
        "colab": {
          "background_save": true
        },
        "id": "6otR2eOXLtqr"
      },
      "outputs": [],
      "source": [
        "vectorized_dist_function_single_loop = jax.jit(vmap(dist_function, (0, 0, None, 0, 0), 0))\n",
        "inner_loop = vmap(dist_function, (None, 0, None, None, 0), 0)\n",
        "vectorized_dist_function_double_loop = jax.jit(vmap(inner_loop, (0, None, None, None, 0), 0))\n",
        "\n",
        "for n in num_points:\n",
        "    for eps in epsilons:\n",
        "        for v in v_scales:\n",
        "            for it in iterations:\n",
        "                experiments(a_size, b_size, n, v, eps, it)"
      ]
    },
    {
      "cell_type": "code",
      "execution_count": null,
      "metadata": {
        "colab": {
          "background_save": true
        },
        "id": "WTk8jgqzx7fV"
      },
      "outputs": [],
      "source": []
    }
  ],
  "metadata": {
    "colab": {
      "provenance": []
    },
    "kernelspec": {
      "display_name": "Python 3",
      "name": "python3"
    },
    "language_info": {
      "name": "python"
    }
  },
  "nbformat": 4,
  "nbformat_minor": 0
}