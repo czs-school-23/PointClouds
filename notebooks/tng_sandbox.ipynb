{
  "cells": [
    {
      "cell_type": "code",
      "execution_count": null,
      "metadata": {
        "id": "7alvXwfDr00p"
      },
      "outputs": [],
      "source": [
        "import numpy as np\n",
        "import pickle\n",
        "from matplotlib import pyplot as plt\n",
        "\n",
        "import illustris_python as il"
      ]
    },
    {
      "cell_type": "code",
      "execution_count": null,
      "metadata": {
        "id": "Q75Wae6Fr00s"
      },
      "outputs": [],
      "source": [
        "basePath = 'sims.TNG/TNG100-1/output'\n",
        "fields = ['GroupMass', 'GroupMassType', 'GroupLenType', 'Group_R_Mean200', 'Group_M_Mean200']\n",
        "halos = il.groupcat.loadHalos(basePath,99,fields=fields)"
      ]
    },
    {
      "cell_type": "code",
      "execution_count": null,
      "metadata": {
        "id": "FLm1zYGVr00t"
      },
      "outputs": [],
      "source": [
        "halos['GroupID'] = np.arange(halos['count'])\n",
        "halos.pop('count')"
      ]
    },
    {
      "cell_type": "code",
      "execution_count": null,
      "metadata": {
        "id": "1s4n6FEYr00u"
      },
      "outputs": [],
      "source": [
        "m_halo = halos['GroupMass']"
      ]
    },
    {
      "cell_type": "code",
      "execution_count": null,
      "metadata": {
        "id": "_Ow4mQ4mr00u"
      },
      "outputs": [],
      "source": [
        "m_stellar = halos['GroupMassType'][:,4]"
      ]
    },
    {
      "cell_type": "code",
      "execution_count": null,
      "metadata": {
        "id": "GsjGK5e1r00v"
      },
      "outputs": [],
      "source": [
        "mass_multiplier = 1e10"
      ]
    },
    {
      "cell_type": "code",
      "execution_count": null,
      "metadata": {
        "id": "2g5D9SCZr00v"
      },
      "outputs": [],
      "source": [
        "i_mcut = m_halo > 1e9 / mass_multiplier\n",
        "print(np.sum(i_mcut))"
      ]
    },
    {
      "cell_type": "code",
      "execution_count": null,
      "metadata": {
        "id": "HlVFSj8Tr00w"
      },
      "outputs": [],
      "source": [
        "log_n_dm = np.log10(halos['GroupLenType'][:,1])"
      ]
    },
    {
      "cell_type": "code",
      "execution_count": null,
      "metadata": {
        "id": "f6av0lPGr00x"
      },
      "outputs": [],
      "source": [
        "plt.figure(figsize=(8,6))\n",
        "plt.scatter(m_halo[i_mcut], m_stellar[i_mcut], alpha=0.5, s=2, c=log_n_dm[i_mcut])\n",
        "plt.xscale('log')\n",
        "plt.yscale('log')\n",
        "plt.ylim(1e-6, 1e3)\n",
        "\n",
        "plt.colorbar()"
      ]
    },
    {
      "cell_type": "code",
      "execution_count": null,
      "metadata": {
        "id": "NYF4Bh-Qr00x"
      },
      "outputs": [],
      "source": [
        "i_mslice = (m_halo >= 3e10/mass_multiplier) & (m_halo < 3.05e10/mass_multiplier)\n",
        "np.sum(i_mslice)"
      ]
    },
    {
      "cell_type": "code",
      "execution_count": null,
      "metadata": {
        "id": "Naa3KCL_r00y"
      },
      "outputs": [],
      "source": [
        "plt.figure(figsize=(8,6))\n",
        "plt.scatter(m_halo[i_mslice], m_stellar[i_mslice], alpha=0.5, s=2, c=log_n_dm[i_mslice])\n",
        "plt.xscale('log')\n",
        "plt.yscale('log')\n",
        "plt.ylim(1e-6, 1e3)\n",
        "\n",
        "plt.colorbar()"
      ]
    },
    {
      "cell_type": "code",
      "execution_count": null,
      "metadata": {
        "id": "cWkb8Of0r00y"
      },
      "outputs": [],
      "source": [
        "halo[ 'Coordinates'].shape"
      ]
    },
    {
      "cell_type": "code",
      "execution_count": null,
      "metadata": {
        "id": "20tvkaH9r00z"
      },
      "outputs": [],
      "source": [
        "plt.figure(figsize=(5,5))\n",
        "plt.scatter(halo[ 'Coordinates'][:,0], halo[ 'Coordinates'][:,1], alpha=0.5, s=1)\n",
        "\n",
        "plt.figure(figsize=(5,5))\n",
        "plt.scatter(halo[ 'Coordinates'][:,0], halo[ 'Coordinates'][:,2], alpha=0.5, s=1)\n",
        "\n",
        "plt.figure(figsize=(5,5))\n",
        "plt.scatter(halo[ 'Coordinates'][:,1], halo[ 'Coordinates'][:,2], alpha=0.5, s=1)"
      ]
    },
    {
      "cell_type": "code",
      "execution_count": null,
      "metadata": {
        "id": "tk_EsMIqr00z"
      },
      "outputs": [],
      "source": [
        "fields = ['Coordinates', 'Velocities']\n",
        "particles = [il.snapshot.loadHalo(basePath, 99, idx, 'dm', fields=fields) for idx in idxs_mslice]"
      ]
    },
    {
      "cell_type": "code",
      "execution_count": null,
      "metadata": {
        "id": "aXSLgwZpr00z"
      },
      "outputs": [],
      "source": [
        "halos_slice = {}\n",
        "for key in halos.keys():\n",
        "    halos_slice[key] = halos[key][idxs_mslice]\n",
        "    print(key, halos_slice[key].shape)\n",
        "halos_slice[\"GroupStellarMass\"] = halos[\"GroupMassType\"][:, 4]"
      ]
    },
    {
      "cell_type": "code",
      "execution_count": null,
      "metadata": {
        "id": "cLF3UOwAr00z"
      },
      "outputs": [],
      "source": [
        "with open('halos.pkl', 'wb') as f:\n",
        "    pickle.dump([particles, halos_slice], f)"
      ]
    },
    {
      "cell_type": "code",
      "execution_count": null,
      "metadata": {
        "id": "9tWft4sJr00z"
      },
      "outputs": [],
      "source": [
        "!gzip -v --best halos.pkl"
      ]
    },
    {
      "cell_type": "code",
      "execution_count": null,
      "metadata": {
        "id": "Wr-W66SUr000"
      },
      "outputs": [],
      "source": []
    }
  ],
  "metadata": {
    "kernelspec": {
      "display_name": "Python 3",
      "language": "python",
      "name": "python3"
    },
    "language_info": {
      "codemirror_mode": {
        "name": "ipython",
        "version": 3
      },
      "file_extension": ".py",
      "mimetype": "text/x-python",
      "name": "python",
      "nbconvert_exporter": "python",
      "pygments_lexer": "ipython3",
      "version": "3.6.7"
    },
    "colab": {
      "provenance": []
    }
  },
  "nbformat": 4,
  "nbformat_minor": 0
}